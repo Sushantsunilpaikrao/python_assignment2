{
 "cells": [
  {
   "cell_type": "code",
   "execution_count": null,
   "id": "c2326667-dde5-4c0b-a4d8-4751d6e3e883",
   "metadata": {},
   "outputs": [],
   "source": [
    "# Example 1: Basic slicing\n",
    "text = \"Hello, World!\"\n",
    "slice1 = text[0:5]\n",
    "print(slice1)  # Output: \"Hello\"\n",
    "\n",
    "# Example 2: Slicing with negative indices\n",
    "slice2 = text[-6:]\n",
    "print(slice2)  # Output: \"World!\"\n"
   ]
  }
 ],
 "metadata": {
  "kernelspec": {
   "display_name": "Python 3 (ipykernel)",
   "language": "python",
   "name": "python3"
  },
  "language_info": {
   "codemirror_mode": {
    "name": "ipython",
    "version": 3
   },
   "file_extension": ".py",
   "mimetype": "text/x-python",
   "name": "python",
   "nbconvert_exporter": "python",
   "pygments_lexer": "ipython3",
   "version": "3.10.8"
  }
 },
 "nbformat": 4,
 "nbformat_minor": 5
}
