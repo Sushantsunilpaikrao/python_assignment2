{
 "cells": [
  {
   "cell_type": "code",
   "execution_count": null,
   "id": "b516d35b-9ab0-4869-9be3-e61cc9c44f76",
   "metadata": {},
   "outputs": [],
   "source": [
    "# 1. Mutability (Modifying Elements)\n",
    "# List: Lists are mutable, meaning you can change their elements (i.e., you can add, remove, or modify elements).\n",
    "#\n",
    "# Example:\n",
    "my_list = [1, 2, 3]\n",
    "my_list[0] = 100  # Modifying an element\n",
    "print(my_list)  # Output: [100, 2, 3]\n",
    "\n",
    "# Tuple: Tuples are immutable, meaning once a tuple is created, its elements cannot be modified (no adding, removing, or changing).\n",
    "# Example:\n",
    "my_tuple = (1, 2, 3)\n",
    "# my_tuple[0] = 100  # This would raise a TypeError\n",
    "\n",
    "\n",
    "# 2. Syntax\n",
    "# List: Defined using square brackets [].\n",
    "\n",
    "# Example:\n",
    "my_list = [1, 2, 3]\n",
    "\n",
    "# Tuple: Defined using parentheses ().\n",
    "my_tuple = (1, 2, 3)\n",
    "\n",
    "# 3. Performance\n",
    "# List: Lists are slower in operations compared to tuples, especially when it comes to iteration, because lists are mutable and need extra memory management.\n",
    "#\n",
    "# Tuple: Tuples are faster than lists because they are immutable and therefore require less memory management.\n",
    "#\n",
    "# Example:\n",
    "\n",
    "import timeit\n",
    "print(timeit.timeit(\"[1, 2, 3, 4, 5]\", number=1000000))  # List creation\n",
    "print(timeit.timeit(\"(1, 2, 3, 4, 5)\", number=1000000))  # Tuple creation\n",
    "\n",
    "# 4. Use Case (Intent)\n",
    "# List: Use lists when you need a collection of items that can change over time (e.g., when you need to add, remove, or modify elements).\n",
    "#\n",
    "# Example:\n",
    "\n",
    "shopping_list = [\"apples\", \"bananas\"]\n",
    "shopping_list.append(\"oranges\")  # Add an element\n",
    "print(shopping_list)  # Output: ['apples', 'bananas', 'oranges']\n",
    "\n",
    "# Tuple: Use tuples when you want to ensure the collection remains unchanged. They are often used to represent fixed data like coordinates, dates, or constants.\n",
    "#\n",
    "# Example:\n",
    "\n",
    "coordinates = (50.45, 30.52)  # Tuple representing geographical coordinates\n",
    "\n"
   ]
  }
 ],
 "metadata": {
  "kernelspec": {
   "display_name": "Python 3 (ipykernel)",
   "language": "python",
   "name": "python3"
  },
  "language_info": {
   "codemirror_mode": {
    "name": "ipython",
    "version": 3
   },
   "file_extension": ".py",
   "mimetype": "text/x-python",
   "name": "python",
   "nbconvert_exporter": "python",
   "pygments_lexer": "ipython3",
   "version": "3.10.8"
  }
 },
 "nbformat": 4,
 "nbformat_minor": 5
}
