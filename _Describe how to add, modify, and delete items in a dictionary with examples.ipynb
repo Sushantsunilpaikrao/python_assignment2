{
 "cells": [
  {
   "cell_type": "code",
   "execution_count": null,
   "id": "f387ef0b-3e05-4f28-aa88-849927759985",
   "metadata": {},
   "outputs": [],
   "source": [
    "# 1. Adding Items to a Dictionary\n",
    "my_dict = {}\n",
    "my_dict['name'] = 'Alice'\n",
    "my_dict['age'] = 25\n",
    "my_dict['city'] = 'New York'\n",
    "\n",
    "print(my_dict)\n",
    "# Output: {'name': 'Alice', 'age': 25, 'city': 'New York'}\n",
    "\n",
    "# 2. Modifying Items in a Dictionary\n",
    "my_dict = {'name': 'Alice', 'age': 25, 'city': 'New York'}\n",
    "\n",
    "my_dict['age'] = 26\n",
    "my_dict['city'] = 'Los Angeles'\n",
    "\n",
    "print(my_dict)\n",
    "# Output: {'name': 'Alice', 'age': 26, 'city': 'Los Angeles'}\n",
    "\n",
    "# 3. Deleting Items from a Dictionary\n",
    "my_dict = {'name': 'Alice', 'age': 25, 'city': 'New York'}\n",
    "\n",
    "del my_dict['age']\n",
    "\n",
    "print(my_dict)\n",
    "# Output: {'name': 'Alice', 'city': 'New York'}\n"
   ]
  }
 ],
 "metadata": {
  "kernelspec": {
   "display_name": "Python 3 (ipykernel)",
   "language": "python",
   "name": "python3"
  },
  "language_info": {
   "codemirror_mode": {
    "name": "ipython",
    "version": 3
   },
   "file_extension": ".py",
   "mimetype": "text/x-python",
   "name": "python",
   "nbconvert_exporter": "python",
   "pygments_lexer": "ipython3",
   "version": "3.10.8"
  }
 },
 "nbformat": 4,
 "nbformat_minor": 5
}
