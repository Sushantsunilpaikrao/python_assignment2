{
 "cells": [
  {
   "cell_type": "code",
   "execution_count": 1,
   "id": "08473246-d603-486e-98fa-c95beed2ada1",
   "metadata": {},
   "outputs": [
    {
     "name": "stdout",
     "output_type": "stream",
     "text": [
      "{42: 'Answer to the Ultimate Question', 'name': 'Alice', (10, 20): 'Coordinates'}\n"
     ]
    }
   ],
   "source": [
    "# Hashability and Consistency:\n",
    "# Python dictionaries are implemented as hash tables, where each key is hashed to compute a unique hash value that determines where the key-value pair is stored in memory.\n",
    "# If a key were mutable, its hash value could change after the key is inserted into the dictionary, which would disrupt the ability of the dictionary to find the key again. This inconsistency would make it impossible to reliably access the corresponding value.\n",
    "# Immutability guarantees that the hash value of the key remains stable throughout the dictionary's lifetime.\n",
    "#\n",
    "# Data Integrity:\n",
    "# Immutable keys ensure that the structure and behavior of the dictionary remain predictable. Once a key-value pair is added to the dictionary, the key cannot be changed, ensuring the integrity of the dictionary data.\n",
    "#\n",
    "# Efficiency:\n",
    "# Because keys are immutable, Python can hash them once and reuse that hash, making key lookups highly efficient. If the key were mutable, Python would have to rehash it every time, which would slow down the lookup process.\n",
    "\n",
    "# Using immutable keys in a dictionary\n",
    "my_dict = {\n",
    "    42: 'Answer to the Ultimate Question',  # Integer key\n",
    "    'name': 'Alice',  # String key\n",
    "    (10, 20): 'Coordinates'  # Tuple key\n",
    "}\n",
    "\n",
    "print(my_dict)\n",
    "# Output: {42: 'Answer to the Ultimate Question', 'name': 'Alice', (10, 20): 'Coordinates'}\n"
   ]
  },
  {
   "cell_type": "code",
   "execution_count": null,
   "id": "061b24e3-04a3-45e7-aa78-76178c4caae8",
   "metadata": {},
   "outputs": [],
   "source": []
  }
 ],
 "metadata": {
  "kernelspec": {
   "display_name": "Python 3 (ipykernel)",
   "language": "python",
   "name": "python3"
  },
  "language_info": {
   "codemirror_mode": {
    "name": "ipython",
    "version": 3
   },
   "file_extension": ".py",
   "mimetype": "text/x-python",
   "name": "python",
   "nbconvert_exporter": "python",
   "pygments_lexer": "ipython3",
   "version": "3.10.8"
  }
 },
 "nbformat": 4,
 "nbformat_minor": 5
}
