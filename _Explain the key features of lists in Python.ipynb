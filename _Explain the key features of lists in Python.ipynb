{
 "cells": [
  {
   "cell_type": "code",
   "execution_count": null,
   "id": "7d192740-2ea1-4e6a-9dea-de68d0f6e5d4",
   "metadata": {},
   "outputs": [],
   "source": [
    "# Explain the key features of lists in Python\n",
    "# 1.Ordered: Lists maintain the order of elements. The first element added will be the first one retrieved.\n",
    "# 2.Mutable: You can change the content of a list (add, remove, or modify elements) without changing its identity.\n",
    "# 3.Heterogeneous: Lists can contain elements of different data types, such as integers, strings, and even other lists.\n",
    "# 4.Dynamic: Lists can grow and shrink in size as needed. You don’t need to declare the size of a list when you create it.\n",
    "# 5.Indexable: You can access elements in a list using their index, starting from 0 for the first element.\n",
    "# 6.Slicing: Lists support slicing, allowing you to retrieve a subset of elements.\n",
    "# 7.Comprehensions: Python provides list comprehensions, a concise way to create lists.\n",
    "# 8.Built-in Methods: Lists come with a variety of built-in methods like append(), extend(), insert(), remove(), pop(), clear(), index(), count(), sort(), reverse(), and copy()"
   ]
  }
 ],
 "metadata": {
  "kernelspec": {
   "display_name": "Python 3 (ipykernel)",
   "language": "python",
   "name": "python3"
  },
  "language_info": {
   "codemirror_mode": {
    "name": "ipython",
    "version": 3
   },
   "file_extension": ".py",
   "mimetype": "text/x-python",
   "name": "python",
   "nbconvert_exporter": "python",
   "pygments_lexer": "ipython3",
   "version": "3.10.8"
  }
 },
 "nbformat": 4,
 "nbformat_minor": 5
}
